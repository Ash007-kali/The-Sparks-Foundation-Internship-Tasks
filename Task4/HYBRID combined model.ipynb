{
 "cells": [
  {
   "cell_type": "code",
   "execution_count": 3,
   "metadata": {},
   "outputs": [],
   "source": [
    "import pickle\n",
    "import tensorflow as tf\n",
    "import pandas as pd\n",
    "import numpy as np\n",
    "from sklearn.preprocessing import MinMaxScaler\n",
    "import matplotlib.pyplot as plt\n",
    "from tensorflow.keras.preprocessing.text import Tokenizer\n",
    "from tensorflow.keras.preprocessing.sequence import pad_sequences"
   ]
  },
  {
   "cell_type": "code",
   "execution_count": 206,
   "metadata": {},
   "outputs": [],
   "source": [
    "pickle_in = open('sentiment.pickle' , 'rb')\n",
    "sentiment = pickle.load(pickle_in)"
   ]
  },
  {
   "cell_type": "code",
   "execution_count": 207,
   "metadata": {},
   "outputs": [],
   "source": [
    "pickle_in = open('input_news.pickle' , 'rb')\n",
    "x_in = pickle.load(pickle_in)"
   ]
  },
  {
   "cell_type": "code",
   "execution_count": 208,
   "metadata": {},
   "outputs": [],
   "source": [
    "pickle_in = open('input_stocks.pickle' , 'rb')\n",
    "x_in_stock = pickle.load(pickle_in)"
   ]
  },
  {
   "cell_type": "code",
   "execution_count": 221,
   "metadata": {},
   "outputs": [],
   "source": [
    "token_news = pd.read_csv('final_dataset_007.csv')\n",
    "t = Tokenizer()\n",
    "t.fit_on_texts(token_news['headline_clean'])"
   ]
  },
  {
   "cell_type": "code",
   "execution_count": 210,
   "metadata": {},
   "outputs": [],
   "source": [
    "stocks_pred = np.array(token_news['Open'])\n",
    "stocks_pred = stocks_pred.reshape(-1,1)"
   ]
  },
  {
   "cell_type": "code",
   "execution_count": 211,
   "metadata": {},
   "outputs": [
    {
     "data": {
      "text/plain": [
       "(2624, 1)"
      ]
     },
     "execution_count": 211,
     "metadata": {},
     "output_type": "execute_result"
    }
   ],
   "source": [
    "stocks_pred.shape"
   ]
  },
  {
   "cell_type": "code",
   "execution_count": 212,
   "metadata": {},
   "outputs": [],
   "source": [
    "news_seq = t.texts_to_sequences(token_news['headline_clean'])\n",
    "news_seq = pad_sequences(news_seq , maxlen= 20 , padding= 'post' , truncating= 'post')"
   ]
  },
  {
   "cell_type": "code",
   "execution_count": 213,
   "metadata": {},
   "outputs": [
    {
     "data": {
      "text/plain": [
       "(2624, 20)"
      ]
     },
     "execution_count": 213,
     "metadata": {},
     "output_type": "execute_result"
    }
   ],
   "source": [
    "news_seq.shape"
   ]
  },
  {
   "cell_type": "code",
   "execution_count": 214,
   "metadata": {},
   "outputs": [
    {
     "data": {
      "text/plain": [
       "18294"
      ]
     },
     "execution_count": 214,
     "metadata": {},
     "output_type": "execute_result"
    }
   ],
   "source": [
    "max_lenn = t.word_index\n",
    "len(max_lenn)"
   ]
  },
  {
   "cell_type": "code",
   "execution_count": 215,
   "metadata": {},
   "outputs": [],
   "source": [
    "scaler = MinMaxScaler()\n",
    "scaler_op = MinMaxScaler()\n",
    "x_in_stock = scaler.fit_transform(x_in_stock)\n",
    "stocks_pred = scaler_op.fit_transform(stocks_pred)"
   ]
  },
  {
   "cell_type": "code",
   "execution_count": 216,
   "metadata": {},
   "outputs": [],
   "source": [
    "x_in_stock = x_in_stock.reshape(2624,40,1)"
   ]
  },
  {
   "cell_type": "code",
   "execution_count": 217,
   "metadata": {},
   "outputs": [],
   "source": [
    "x_in = news_seq.reshape(2624,20,1)"
   ]
  },
  {
   "cell_type": "code",
   "execution_count": 154,
   "metadata": {},
   "outputs": [],
   "source": [
    "from tensorflow.keras.layers import LSTM, Dense , Input , Dropout , Concatenate , Embedding\n",
    "from tensorflow.keras.models import Model"
   ]
  },
  {
   "cell_type": "code",
   "execution_count": 228,
   "metadata": {},
   "outputs": [],
   "source": [
    "inn_stock = Input(shape = (40,1))\n",
    "inn_n = Input(shape = (20,1))\n",
    "\n",
    "#For stocks input\n",
    "lstm1 = LSTM(60, return_sequences=True)(inn_stock)\n",
    "dropout1 = Dropout(0.4)(lstm1)\n",
    "\n",
    "lstm3 = LSTM(50 , return_sequences = False )(dropout1)\n",
    "\n",
    "dense1 = Dense(50, activation = 'tanh',kernel_regularizer=tf.keras.regularizers.l2(0.001))(lstm3)\n",
    "dense2 = Dense(25, activation = 'tanh',kernel_regularizer=tf.keras.regularizers.l2(0.001))(dense1)\n",
    "dropout3 = Dropout(0.3)(dense2)\n",
    "dense3 = Dense(20, activation = 'tanh')(dropout3)\n",
    "\n",
    "#For news input\n",
    "\n",
    "embb = Embedding(18294 , 50)(inn_n)\n",
    "lstm_n = LSTM(50 , return_sequences = False)(inn_n)\n",
    "dense_1_n  = Dense(40 , activation = 'relu' , kernel_regularizer = 'l1' )(lstm_n)\n",
    "dropout_2_n = Dropout(0.1)(dense_1_n)\n",
    "dense_2_n = Dense(20 , activation = 'relu')(dropout_2_n)\n",
    "dense_f = Dense(30 , activation = 'relu' , kernel_regularizer = 'l1' )(dense_2_n)\n",
    "#Concat both vectors\n",
    "finn = Concatenate(axis=1)([dense3 , dense_f])\n",
    "dense_f = Dense(10 , activation = 'relu' , kernel_regularizer = 'l1' )(finn)\n",
    "op_dense = Dense(1)(dense_f)\n",
    "\n",
    "model = Model(inputs = [inn_stock , inn_n ] , outputs = [op_dense])\n"
   ]
  },
  {
   "cell_type": "code",
   "execution_count": 229,
   "metadata": {},
   "outputs": [
    {
     "name": "stdout",
     "output_type": "stream",
     "text": [
      "Model: \"model_8\"\n",
      "__________________________________________________________________________________________________\n",
      "Layer (type)                    Output Shape         Param #     Connected to                     \n",
      "==================================================================================================\n",
      "input_36 (InputLayer)           [(None, 40, 1)]      0                                            \n",
      "__________________________________________________________________________________________________\n",
      "lstm_54 (LSTM)                  (None, 40, 60)       14880       input_36[0][0]                   \n",
      "__________________________________________________________________________________________________\n",
      "dropout_42 (Dropout)            (None, 40, 60)       0           lstm_54[0][0]                    \n",
      "__________________________________________________________________________________________________\n",
      "input_37 (InputLayer)           [(None, 20, 1)]      0                                            \n",
      "__________________________________________________________________________________________________\n",
      "lstm_55 (LSTM)                  (None, 50)           22200       dropout_42[0][0]                 \n",
      "__________________________________________________________________________________________________\n",
      "lstm_56 (LSTM)                  (None, 50)           10400       input_37[0][0]                   \n",
      "__________________________________________________________________________________________________\n",
      "dense_82 (Dense)                (None, 50)           2550        lstm_55[0][0]                    \n",
      "__________________________________________________________________________________________________\n",
      "dense_85 (Dense)                (None, 40)           2040        lstm_56[0][0]                    \n",
      "__________________________________________________________________________________________________\n",
      "dense_83 (Dense)                (None, 25)           1275        dense_82[0][0]                   \n",
      "__________________________________________________________________________________________________\n",
      "dropout_44 (Dropout)            (None, 40)           0           dense_85[0][0]                   \n",
      "__________________________________________________________________________________________________\n",
      "dropout_43 (Dropout)            (None, 25)           0           dense_83[0][0]                   \n",
      "__________________________________________________________________________________________________\n",
      "dense_86 (Dense)                (None, 20)           820         dropout_44[0][0]                 \n",
      "__________________________________________________________________________________________________\n",
      "dense_84 (Dense)                (None, 20)           520         dropout_43[0][0]                 \n",
      "__________________________________________________________________________________________________\n",
      "dense_87 (Dense)                (None, 30)           630         dense_86[0][0]                   \n",
      "__________________________________________________________________________________________________\n",
      "concatenate_8 (Concatenate)     (None, 50)           0           dense_84[0][0]                   \n",
      "                                                                 dense_87[0][0]                   \n",
      "__________________________________________________________________________________________________\n",
      "dense_88 (Dense)                (None, 10)           510         concatenate_8[0][0]              \n",
      "__________________________________________________________________________________________________\n",
      "dense_89 (Dense)                (None, 1)            11          dense_88[0][0]                   \n",
      "==================================================================================================\n",
      "Total params: 55,836\n",
      "Trainable params: 55,836\n",
      "Non-trainable params: 0\n",
      "__________________________________________________________________________________________________\n"
     ]
    }
   ],
   "source": [
    "model.summary()"
   ]
  },
  {
   "cell_type": "code",
   "execution_count": 230,
   "metadata": {},
   "outputs": [
    {
     "name": "stdout",
     "output_type": "stream",
     "text": [
      "Failed to import pydot. You must install pydot and graphviz for `pydotprint` to work.\n"
     ]
    }
   ],
   "source": [
    "tf.keras.utils.plot_model(model)"
   ]
  },
  {
   "cell_type": "code",
   "execution_count": 231,
   "metadata": {},
   "outputs": [],
   "source": [
    "model.compile(optimizer = tf.keras.optimizers.Adam(learning_rate = 0.0025) , loss = 'mean_squared_error')"
   ]
  },
  {
   "cell_type": "code",
   "execution_count": 232,
   "metadata": {},
   "outputs": [],
   "source": [
    "#news data\n",
    "x_train_n = x_in[:1900]\n",
    "x_test_n =  x_in[1900:]\n",
    "y_train = stocks_pred[:1900]\n",
    "y_test = stocks_pred[1900:]\n",
    "\n",
    "#Stocks Data\n",
    "\n",
    "x_train_s = x_in_stock[:1900]\n",
    "x_test_s = x_in_stock[1900:]"
   ]
  },
  {
   "cell_type": "code",
   "execution_count": 233,
   "metadata": {},
   "outputs": [
    {
     "data": {
      "text/plain": [
       "(1900, 20, 1)"
      ]
     },
     "execution_count": 233,
     "metadata": {},
     "output_type": "execute_result"
    }
   ],
   "source": [
    "x_train_n.shape"
   ]
  },
  {
   "cell_type": "code",
   "execution_count": 243,
   "metadata": {},
   "outputs": [
    {
     "name": "stdout",
     "output_type": "stream",
     "text": [
      "Epoch 1/10\n",
      "60/60 - 4s - loss: 0.0302 - val_loss: 0.0169\n",
      "Epoch 2/10\n",
      "60/60 - 4s - loss: 0.0174 - val_loss: 0.0149\n",
      "Epoch 3/10\n",
      "60/60 - 6s - loss: 0.0156 - val_loss: 0.0140\n",
      "Epoch 4/10\n",
      "60/60 - 5s - loss: 0.0147 - val_loss: 0.0134\n",
      "Epoch 5/10\n",
      "60/60 - 4s - loss: 0.0142 - val_loss: 0.0131\n",
      "Epoch 6/10\n",
      "60/60 - 4s - loss: 0.0138 - val_loss: 0.0128\n",
      "Epoch 7/10\n",
      "60/60 - 4s - loss: 0.0136 - val_loss: 0.0126\n",
      "Epoch 8/10\n",
      "60/60 - 4s - loss: 0.0133 - val_loss: 0.0124\n",
      "Epoch 9/10\n",
      "60/60 - 4s - loss: 0.0133 - val_loss: 0.0126\n",
      "Epoch 10/10\n",
      "60/60 - 4s - loss: 0.0129 - val_loss: 0.0119\n"
     ]
    }
   ],
   "source": [
    "history = model.fit([x_train_s , x_train_n] , y_train , epochs = 10 , batch_size = 32 , validation_data = [[x_test_s , x_test_n] , y_test] , verbose = 2)"
   ]
  },
  {
   "cell_type": "code",
   "execution_count": 244,
   "metadata": {},
   "outputs": [],
   "source": [
    "import matplotlib.pyplot as plt"
   ]
  },
  {
   "cell_type": "code",
   "execution_count": 245,
   "metadata": {},
   "outputs": [
    {
     "data": {
      "text/plain": [
       "[<matplotlib.lines.Line2D at 0x27c47a32c48>]"
      ]
     },
     "execution_count": 245,
     "metadata": {},
     "output_type": "execute_result"
    },
    {
     "data": {
      "image/png": "[encoded data removed]",
      "text/plain": [
       "<Figure size 720x288 with 1 Axes>"
      ]
     },
     "metadata": {},
     "output_type": "display_data"
    }
   ],
   "source": [
    "plt.figure(figsize = (10,4))\n",
    "plt.plot(history.history['loss'])\n",
    "plt.plot(history.history['val_loss'])"
   ]
  },
  {
   "cell_type": "code",
   "execution_count": 246,
   "metadata": {},
   "outputs": [],
   "source": [
    "test_predictions = model.predict([x_test_s , x_test_n])"
   ]
  },
  {
   "cell_type": "code",
   "execution_count": 247,
   "metadata": {},
   "outputs": [],
   "source": [
    "predicted_stocks = scaler_op.inverse_transform(test_predictions)\n",
    "original_to_pred = scaler_op.inverse_transform(y_test)"
   ]
  },
  {
   "cell_type": "code",
   "execution_count": 248,
   "metadata": {},
   "outputs": [],
   "source": [
    "from sklearn.metrics import mean_absolute_error"
   ]
  },
  {
   "cell_type": "code",
   "execution_count": 249,
   "metadata": {},
   "outputs": [],
   "source": [
    "mse = mean_absolute_error(predicted_stocks, original_to_pred)"
   ]
  },
  {
   "cell_type": "code",
   "execution_count": 250,
   "metadata": {},
   "outputs": [
    {
     "data": {
      "text/plain": [
       "5951.713306131561"
      ]
     },
     "execution_count": 250,
     "metadata": {},
     "output_type": "execute_result"
    }
   ],
   "source": [
    "mse"
   ]
  },
  {
   "cell_type": "code",
   "execution_count": 251,
   "metadata": {},
   "outputs": [
    {
     "data": {
      "image/png": "[encoded data removed]",
      "text/plain": [
       "<Figure size 576x288 with 1 Axes>"
      ]
     },
     "metadata": {},
     "output_type": "display_data"
    }
   ],
   "source": [
    "plt.style.use('ggplot')\n",
    "plt.figure(figsize = (8,4))\n",
    "plt.plot(predicted_stocks, color = 'red' , label = 'Predicted')\n",
    "plt.plot(original_to_pred,color = 'black' , label = 'actual')\n",
    "plt.xlabel('Days')\n",
    "plt.ylabel('Opening stock price')\n",
    "plt.legend()\n",
    "plt.show()"
   ]
  },
  {
   "cell_type": "code",
   "execution_count": null,
   "metadata": {},
   "outputs": [],
   "source": []
  }
 ],
 "metadata": {
  "kernelspec": {
   "display_name": "Python 3",
   "language": "python",
   "name": "python3"
  },
  "language_info": {
   "codemirror_mode": {
    "name": "ipython",
    "version": 3
   },
   "file_extension": ".py",
   "mimetype": "text/x-python",
   "name": "python",
   "nbconvert_exporter": "python",
   "pygments_lexer": "ipython3",
   "version": "3.7.7"
  }
 },
 "nbformat": 4,
 "nbformat_minor": 4
}
