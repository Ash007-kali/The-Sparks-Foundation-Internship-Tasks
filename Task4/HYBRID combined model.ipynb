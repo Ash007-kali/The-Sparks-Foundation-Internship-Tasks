{
 "cells": [
  {
   "cell_type": "markdown",
   "metadata": {},
   "source": [
    "## No improvements in the performance as the text corpus doesn't makes any sense."
   ]
  },
  {
   "cell_type": "code",
   "execution_count": 3,
   "metadata": {},
   "outputs": [],
   "source": [
    "import pickle\n",
    "import tensorflow as tf\n",
    "import pandas as pd\n",
    "import numpy as np\n",
    "from sklearn.preprocessing import MinMaxScaler\n",
    "import matplotlib.pyplot as plt\n",
    "from tensorflow.keras.preprocessing.text import Tokenizer\n",
    "from tensorflow.keras.preprocessing.sequence import pad_sequences"
   ]
  },
  {
   "cell_type": "code",
   "execution_count": 4,
   "metadata": {},
   "outputs": [],
   "source": [
    "pickle_in = open('sentiment.pickle' , 'rb')\n",
    "sentiment = pickle.load(pickle_in)"
   ]
  },
  {
   "cell_type": "code",
   "execution_count": 5,
   "metadata": {},
   "outputs": [],
   "source": [
    "pickle_in = open('input_news.pickle' , 'rb')\n",
    "x_in = pickle.load(pickle_in)"
   ]
  },
  {
   "cell_type": "code",
   "execution_count": 6,
   "metadata": {},
   "outputs": [],
   "source": [
    "pickle_in = open('input_stocks.pickle' , 'rb')\n",
    "x_in_stock = pickle.load(pickle_in)"
   ]
  },
  {
   "cell_type": "code",
   "execution_count": 7,
   "metadata": {},
   "outputs": [],
   "source": [
    "token_news = pd.read_csv('final_dataset_007.csv')\n",
    "t = Tokenizer()\n",
    "t.fit_on_texts(token_news['headline_clean'])"
   ]
  },
  {
   "cell_type": "code",
   "execution_count": 210,
   "metadata": {},
   "outputs": [],
   "source": [
    "stocks_pred = np.array(token_news['Open'])\n",
    "stocks_pred = stocks_pred.reshape(-1,1)"
   ]
  },
  {
   "cell_type": "code",
   "execution_count": 211,
   "metadata": {},
   "outputs": [
    {
     "data": {
      "text/plain": [
       "(2624, 1)"
      ]
     },
     "execution_count": 211,
     "metadata": {},
     "output_type": "execute_result"
    }
   ],
   "source": [
    "stocks_pred.shape"
   ]
  },
  {
   "cell_type": "code",
   "execution_count": 8,
   "metadata": {},
   "outputs": [],
   "source": [
    "news_seq = t.texts_to_sequences(token_news['headline_clean'])\n",
    "news_seq = pad_sequences(news_seq , maxlen= 20 , padding= 'post' , truncating= 'post')"
   ]
  },
  {
   "cell_type": "code",
   "execution_count": 9,
   "metadata": {},
   "outputs": [
    {
     "data": {
      "text/plain": [
       "(2624, 20)"
      ]
     },
     "execution_count": 9,
     "metadata": {},
     "output_type": "execute_result"
    }
   ],
   "source": [
    "news_seq.shape"
   ]
  },
  {
   "cell_type": "code",
   "execution_count": 10,
   "metadata": {},
   "outputs": [
    {
     "data": {
      "text/plain": [
       "18294"
      ]
     },
     "execution_count": 10,
     "metadata": {},
     "output_type": "execute_result"
    }
   ],
   "source": [
    "max_lenn = t.word_index\n",
    "len(max_lenn)"
   ]
  },
  {
   "cell_type": "code",
   "execution_count": 11,
   "metadata": {},
   "outputs": [],
   "source": [
    "scaler = MinMaxScaler()\n",
    "x_in_stock = scaler.fit_transform(x_in_stock)"
   ]
  },
  {
   "cell_type": "code",
   "execution_count": 12,
   "metadata": {},
   "outputs": [],
   "source": [
    "x_in_stock = x_in_stock.reshape(2624,40,1)"
   ]
  },
  {
   "cell_type": "code",
   "execution_count": 13,
   "metadata": {},
   "outputs": [],
   "source": [
    "x_in = news_seq.reshape(2624,20,1)"
   ]
  },
  {
   "cell_type": "code",
   "execution_count": 14,
   "metadata": {},
   "outputs": [],
   "source": [
    "from tensorflow.keras.layers import LSTM, Dense , Input , Dropout , Concatenate , Embedding\n",
    "from tensorflow.keras.models import Model"
   ]
  },
  {
   "cell_type": "code",
   "execution_count": 15,
   "metadata": {},
   "outputs": [],
   "source": [
    "inn_stock = Input(shape = (40,1))\n",
    "inn_n = Input(shape = (20,1))\n",
    "\n",
    "#For stocks input\n",
    "lstm1 = LSTM(60, return_sequences=True)(inn_stock)\n",
    "dropout1 = Dropout(0.4)(lstm1)\n",
    "\n",
    "lstm3 = LSTM(50 , return_sequences = False )(dropout1)\n",
    "\n",
    "dense1 = Dense(50, activation = 'tanh',kernel_regularizer=tf.keras.regularizers.l2(0.001))(lstm3)\n",
    "dense2 = Dense(25, activation = 'tanh',kernel_regularizer=tf.keras.regularizers.l2(0.001))(dense1)\n",
    "dropout3 = Dropout(0.3)(dense2)\n",
    "dense3 = Dense(20, activation = 'tanh')(dropout3)\n",
    "\n",
    "#For news input\n",
    "\n",
    "embb = Embedding(18294 , 50)(inn_n)\n",
    "lstm_n = LSTM(50 , return_sequences = False)(inn_n)\n",
    "dense_1_n  = Dense(40 , activation = 'relu' , kernel_regularizer = 'l1' )(lstm_n)\n",
    "dropout_2_n = Dropout(0.1)(dense_1_n)\n",
    "dense_2_n = Dense(20 , activation = 'relu')(dropout_2_n)\n",
    "dense_f = Dense(30 , activation = 'relu' , kernel_regularizer = 'l1' )(dense_2_n)\n",
    "#Concat both vectors\n",
    "finn = Concatenate(axis=1)([dense3 , dense_f])\n",
    "dense_f = Dense(10 , activation = 'relu' , kernel_regularizer = 'l1' )(finn)\n",
    "op_dense = Dense(1)(dense_f)\n",
    "\n",
    "model = Model(inputs = [inn_stock , inn_n ] , outputs = [op_dense])\n"
   ]
  },
  {
   "cell_type": "code",
   "execution_count": 16,
   "metadata": {},
   "outputs": [
    {
     "name": "stdout",
     "output_type": "stream",
     "text": [
      "Model: \"model\"\n",
      "__________________________________________________________________________________________________\n",
      "Layer (type)                    Output Shape         Param #     Connected to                     \n",
      "==================================================================================================\n",
      "input_1 (InputLayer)            [(None, 40, 1)]      0                                            \n",
      "__________________________________________________________________________________________________\n",
      "lstm (LSTM)                     (None, 40, 60)       14880       input_1[0][0]                    \n",
      "__________________________________________________________________________________________________\n",
      "dropout (Dropout)               (None, 40, 60)       0           lstm[0][0]                       \n",
      "__________________________________________________________________________________________________\n",
      "input_2 (InputLayer)            [(None, 20, 1)]      0                                            \n",
      "__________________________________________________________________________________________________\n",
      "lstm_1 (LSTM)                   (None, 50)           22200       dropout[0][0]                    \n",
      "__________________________________________________________________________________________________\n",
      "lstm_2 (LSTM)                   (None, 50)           10400       input_2[0][0]                    \n",
      "__________________________________________________________________________________________________\n",
      "dense (Dense)                   (None, 50)           2550        lstm_1[0][0]                     \n",
      "__________________________________________________________________________________________________\n",
      "dense_3 (Dense)                 (None, 40)           2040        lstm_2[0][0]                     \n",
      "__________________________________________________________________________________________________\n",
      "dense_1 (Dense)                 (None, 25)           1275        dense[0][0]                      \n",
      "__________________________________________________________________________________________________\n",
      "dropout_2 (Dropout)             (None, 40)           0           dense_3[0][0]                    \n",
      "__________________________________________________________________________________________________\n",
      "dropout_1 (Dropout)             (None, 25)           0           dense_1[0][0]                    \n",
      "__________________________________________________________________________________________________\n",
      "dense_4 (Dense)                 (None, 20)           820         dropout_2[0][0]                  \n",
      "__________________________________________________________________________________________________\n",
      "dense_2 (Dense)                 (None, 20)           520         dropout_1[0][0]                  \n",
      "__________________________________________________________________________________________________\n",
      "dense_5 (Dense)                 (None, 30)           630         dense_4[0][0]                    \n",
      "__________________________________________________________________________________________________\n",
      "concatenate (Concatenate)       (None, 50)           0           dense_2[0][0]                    \n",
      "                                                                 dense_5[0][0]                    \n",
      "__________________________________________________________________________________________________\n",
      "dense_6 (Dense)                 (None, 10)           510         concatenate[0][0]                \n",
      "__________________________________________________________________________________________________\n",
      "dense_7 (Dense)                 (None, 1)            11          dense_6[0][0]                    \n",
      "==================================================================================================\n",
      "Total params: 55,836\n",
      "Trainable params: 55,836\n",
      "Non-trainable params: 0\n",
      "__________________________________________________________________________________________________\n"
     ]
    }
   ],
   "source": [
    "model.summary()"
   ]
  },
  {
   "cell_type": "code",
   "execution_count": 17,
   "metadata": {},
   "outputs": [
    {
     "name": "stdout",
     "output_type": "stream",
     "text": [
      "Failed to import pydot. You must install pydot and graphviz for `pydotprint` to work.\n"
     ]
    }
   ],
   "source": [
    "tf.keras.utils.plot_model(model)"
   ]
  },
  {
   "cell_type": "code",
   "execution_count": 19,
   "metadata": {},
   "outputs": [],
   "source": [
    "model.compile(optimizer = tf.keras.optimizers.Adam(learning_rate = 0.0025) , loss = 'binary_crossentropy')"
   ]
  },
  {
   "cell_type": "code",
   "execution_count": 20,
   "metadata": {},
   "outputs": [],
   "source": [
    "#news data\n",
    "x_train_n = x_in[:1900]\n",
    "x_test_n =  x_in[1900:]\n",
    "y_train = np.array(sentiment[:1900])\n",
    "y_test = np.array(sentiment[1900:])\n",
    "\n",
    "#Stocks Data\n",
    "\n",
    "x_train_s = x_in_stock[:1900]\n",
    "x_test_s = x_in_stock[1900:]"
   ]
  },
  {
   "cell_type": "code",
   "execution_count": 21,
   "metadata": {},
   "outputs": [
    {
     "data": {
      "text/plain": [
       "(1900, 20, 1)"
      ]
     },
     "execution_count": 21,
     "metadata": {},
     "output_type": "execute_result"
    }
   ],
   "source": [
    "x_train_n.shape"
   ]
  },
  {
   "cell_type": "code",
   "execution_count": 22,
   "metadata": {},
   "outputs": [
    {
     "name": "stdout",
     "output_type": "stream",
     "text": [
      "Epoch 1/10\n",
      "60/60 - 11s - loss: 4.2051 - val_loss: 2.4136\n",
      "Epoch 2/10\n",
      "60/60 - 8s - loss: 2.4549 - val_loss: 1.2294\n",
      "Epoch 3/10\n",
      "60/60 - 7s - loss: 1.6790 - val_loss: 0.7635\n",
      "Epoch 4/10\n",
      "60/60 - 11s - loss: 1.3310 - val_loss: 0.5118\n",
      "Epoch 5/10\n",
      "60/60 - 9s - loss: 1.1321 - val_loss: 0.3621\n",
      "Epoch 6/10\n",
      "60/60 - 5s - loss: 1.0079 - val_loss: 0.2604\n",
      "Epoch 7/10\n",
      "60/60 - 4s - loss: 0.9254 - val_loss: 0.1926\n",
      "Epoch 8/10\n",
      "60/60 - 5s - loss: 0.8731 - val_loss: 0.1507\n",
      "Epoch 9/10\n",
      "60/60 - 5s - loss: 0.8358 - val_loss: 0.1163\n",
      "Epoch 10/10\n",
      "60/60 - 5s - loss: 0.8009 - val_loss: 0.0935\n"
     ]
    }
   ],
   "source": [
    "history = model.fit([x_train_s , x_train_n] , y_train , epochs = 10 , batch_size = 32 , validation_data = [[x_test_s , x_test_n] , y_test] , verbose = 2)"
   ]
  },
  {
   "cell_type": "code",
   "execution_count": 23,
   "metadata": {},
   "outputs": [],
   "source": [
    "import matplotlib.pyplot as plt"
   ]
  },
  {
   "cell_type": "code",
   "execution_count": 24,
   "metadata": {},
   "outputs": [
    {
     "data": {
      "text/plain": [
       "[<matplotlib.lines.Line2D at 0x1fba5caa448>]"
      ]
     },
     "execution_count": 24,
     "metadata": {},
     "output_type": "execute_result"
    },
    {
     "data": {
      "image/png": "[encoded data removed]",
      "text/plain": [
       "<Figure size 720x288 with 1 Axes>"
      ]
     },
     "metadata": {
      "needs_background": "light"
     },
     "output_type": "display_data"
    }
   ],
   "source": [
    "plt.figure(figsize = (10,4))\n",
    "plt.plot(history.history['loss'])\n",
    "plt.plot(history.history['val_loss'])"
   ]
  },
  {
   "cell_type": "code",
   "execution_count": 25,
   "metadata": {},
   "outputs": [],
   "source": [
    "test_predictions = model.predict([x_test_s , x_test_n])"
   ]
  },
  {
   "cell_type": "code",
   "execution_count": 26,
   "metadata": {},
   "outputs": [],
   "source": [
    "from sklearn.metrics import accuracy_score"
   ]
  },
  {
   "cell_type": "code",
   "execution_count": 27,
   "metadata": {},
   "outputs": [],
   "source": [
    "acc = accuracy_score(np.rint(test_predictions) , y_test)"
   ]
  },
  {
   "cell_type": "code",
   "execution_count": 29,
   "metadata": {},
   "outputs": [
    {
     "data": {
      "text/plain": [
       "0.5220994475138122"
      ]
     },
     "execution_count": 29,
     "metadata": {},
     "output_type": "execute_result"
    }
   ],
   "source": [
    "acc"
   ]
  },
  {
   "cell_type": "code",
   "execution_count": null,
   "metadata": {},
   "outputs": [],
   "source": []
  }
 ],
 "metadata": {
  "kernelspec": {
   "display_name": "Python 3",
   "language": "python",
   "name": "python3"
  },
  "language_info": {
   "codemirror_mode": {
    "name": "ipython",
    "version": 3
   },
   "file_extension": ".py",
   "mimetype": "text/x-python",
   "name": "python",
   "nbconvert_exporter": "python",
   "pygments_lexer": "ipython3",
   "version": "3.7.7"
  }
 },
 "nbformat": 4,
 "nbformat_minor": 4
}
