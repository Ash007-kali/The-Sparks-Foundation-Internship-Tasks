{
 "cells": [
  {
   "cell_type": "markdown",
   "metadata": {},
   "source": [
    "# This Sentiment analysis model had the worse performance"
   ]
  },
  {
   "cell_type": "markdown",
   "metadata": {},
   "source": [
    "## Future considerations"
   ]
  },
  {
   "cell_type": "markdown",
   "metadata": {},
   "source": [
    "### 1. Proper Text mining needs to be done as the base dataset contained lots of uncorrelated news\n",
    "### 2. The only way for this model to perform better is first to do heavy statistical analysis on news, checking the correlations, making a very clean and accurate corpus and then making a hybrid model"
   ]
  },
  {
   "cell_type": "code",
   "execution_count": 1,
   "metadata": {},
   "outputs": [],
   "source": [
    "import pickle\n",
    "import tensorflow as tf\n",
    "import pandas as pd\n",
    "import numpy as np\n",
    "from sklearn.preprocessing import MinMaxScaler\n",
    "import matplotlib.pyplot as plt\n",
    "from tensorflow.keras.preprocessing.text import Tokenizer\n",
    "from tensorflow.keras.preprocessing.sequence import pad_sequences"
   ]
  },
  {
   "cell_type": "code",
   "execution_count": null,
   "metadata": {},
   "outputs": [],
   "source": []
  },
  {
   "cell_type": "code",
   "execution_count": 2,
   "metadata": {},
   "outputs": [],
   "source": [
    "pickle_in = open('sentiment.pickle' , 'rb')\n",
    "sentiment = pickle.load(pickle_in)"
   ]
  },
  {
   "cell_type": "code",
   "execution_count": 3,
   "metadata": {},
   "outputs": [],
   "source": [
    "pickle_in = open('input_news.pickle' , 'rb')\n",
    "x_in = pickle.load(pickle_in)"
   ]
  },
  {
   "cell_type": "code",
   "execution_count": 4,
   "metadata": {},
   "outputs": [],
   "source": [
    "token_news = pd.read_csv('final_dataset_007.csv')\n",
    "t = Tokenizer()\n",
    "t.fit_on_texts(token_news['headline_clean'])"
   ]
  },
  {
   "cell_type": "code",
   "execution_count": 5,
   "metadata": {},
   "outputs": [],
   "source": [
    "news_seq = t.texts_to_sequences(token_news['headline_clean'])\n",
    "news_seq = pad_sequences(news_seq , maxlen= 100 , padding= 'post' , truncating= 'post')"
   ]
  },
  {
   "cell_type": "code",
   "execution_count": 6,
   "metadata": {},
   "outputs": [
    {
     "data": {
      "text/plain": [
       "18294"
      ]
     },
     "execution_count": 6,
     "metadata": {},
     "output_type": "execute_result"
    }
   ],
   "source": [
    "max_lenn = t.word_index\n",
    "len(max_lenn)"
   ]
  },
  {
   "cell_type": "code",
   "execution_count": 8,
   "metadata": {},
   "outputs": [],
   "source": [
    "x_in = x_in.reshape(2624,100,1)"
   ]
  },
  {
   "cell_type": "code",
   "execution_count": 9,
   "metadata": {},
   "outputs": [],
   "source": [
    "from tensorflow.keras.layers import LSTM, Dense , Input , Dropout , Concatenate , Embedding\n",
    "from tensorflow.keras.models import Model"
   ]
  },
  {
   "cell_type": "code",
   "execution_count": 11,
   "metadata": {},
   "outputs": [],
   "source": [
    "inn_n = Input(shape = (100,1))\n",
    "embb = Embedding(18294 , 50)(inn_n)\n",
    "lstm_n = LSTM(50 , return_sequences = False)(inn_n)\n",
    "dense_1_n  = Dense(40 , activation = 'relu' , kernel_regularizer = 'l1' )(lstm_n)\n",
    "dropout_2_n = Dropout(0.1)(dense_1_n)\n",
    "dense_2_n = Dense(20 , activation = 'relu')(dropout_2_n)\n",
    "dense_f = Dense(30 , activation = 'relu' , kernel_regularizer = 'l1' )(dense_2_n)\n",
    "op_dense = Dense(1)(dense_f)\n",
    "\n",
    "model = Model(inputs = [inn_n ] , outputs = [op_dense])"
   ]
  },
  {
   "cell_type": "code",
   "execution_count": 12,
   "metadata": {},
   "outputs": [
    {
     "name": "stdout",
     "output_type": "stream",
     "text": [
      "Model: \"model\"\n",
      "_________________________________________________________________\n",
      "Layer (type)                 Output Shape              Param #   \n",
      "=================================================================\n",
      "input_2 (InputLayer)         [(None, 100, 1)]          0         \n",
      "_________________________________________________________________\n",
      "lstm (LSTM)                  (None, 50)                10400     \n",
      "_________________________________________________________________\n",
      "dense (Dense)                (None, 40)                2040      \n",
      "_________________________________________________________________\n",
      "dropout (Dropout)            (None, 40)                0         \n",
      "_________________________________________________________________\n",
      "dense_1 (Dense)              (None, 20)                820       \n",
      "_________________________________________________________________\n",
      "dense_2 (Dense)              (None, 30)                630       \n",
      "_________________________________________________________________\n",
      "dense_3 (Dense)              (None, 1)                 31        \n",
      "=================================================================\n",
      "Total params: 13,921\n",
      "Trainable params: 13,921\n",
      "Non-trainable params: 0\n",
      "_________________________________________________________________\n"
     ]
    }
   ],
   "source": [
    "model.summary()"
   ]
  },
  {
   "cell_type": "code",
   "execution_count": 13,
   "metadata": {},
   "outputs": [],
   "source": [
    "model.compile(optimizer = tf.keras.optimizers.Adam(learning_rate = 0.0025) , loss = 'binary_crossentropy')"
   ]
  },
  {
   "cell_type": "code",
   "execution_count": 14,
   "metadata": {},
   "outputs": [],
   "source": [
    "#news data\n",
    "x_train_n = news_seq[:1900]\n",
    "x_test_n =  news_seq[1900:]\n",
    "y_train = np.array(sentiment[:1900])\n",
    "y_test = np.array(sentiment[1900:])"
   ]
  },
  {
   "cell_type": "code",
   "execution_count": 17,
   "metadata": {},
   "outputs": [
    {
     "name": "stdout",
     "output_type": "stream",
     "text": [
      "Epoch 1/30\n",
      "60/60 - 7s - loss: 0.7445 - val_loss: 0.0438\n",
      "Epoch 2/30\n",
      "60/60 - 8s - loss: 0.7342 - val_loss: 0.0398\n",
      "Epoch 3/30\n",
      "60/60 - 7s - loss: 0.7307 - val_loss: 0.0287\n",
      "Epoch 4/30\n",
      "60/60 - 8s - loss: 0.7234 - val_loss: 0.0254\n",
      "Epoch 5/30\n",
      "60/60 - 7s - loss: 0.7200 - val_loss: 0.0232\n",
      "Epoch 6/30\n",
      "60/60 - 7s - loss: 0.7151 - val_loss: 0.0233\n",
      "Epoch 7/30\n",
      "60/60 - 5s - loss: 0.7148 - val_loss: 0.0168\n",
      "Epoch 8/30\n",
      "60/60 - 6s - loss: 0.7108 - val_loss: 0.0148\n",
      "Epoch 9/30\n",
      "60/60 - 7s - loss: 0.7070 - val_loss: 0.0128\n",
      "Epoch 10/30\n",
      "60/60 - 5s - loss: 0.7054 - val_loss: 0.0115\n",
      "Epoch 11/30\n",
      "60/60 - 4s - loss: 0.7059 - val_loss: 0.0119\n",
      "Epoch 12/30\n",
      "60/60 - 4s - loss: 0.7036 - val_loss: 0.0105\n",
      "Epoch 13/30\n",
      "60/60 - 4s - loss: 0.7038 - val_loss: 0.0089\n",
      "Epoch 14/30\n",
      "60/60 - 4s - loss: 0.7019 - val_loss: 0.0087\n",
      "Epoch 15/30\n",
      "60/60 - 4s - loss: 0.7014 - val_loss: 0.0078\n",
      "Epoch 16/30\n",
      "60/60 - 4s - loss: 0.7011 - val_loss: 0.0085\n",
      "Epoch 17/30\n",
      "60/60 - 4s - loss: 0.7010 - val_loss: 0.0073\n",
      "Epoch 18/30\n",
      "60/60 - 4s - loss: 0.7001 - val_loss: 0.0068\n",
      "Epoch 19/30\n",
      "60/60 - 4s - loss: 0.7002 - val_loss: 0.0070\n",
      "Epoch 20/30\n",
      "60/60 - 4s - loss: 0.6999 - val_loss: 0.0071\n",
      "Epoch 21/30\n",
      "60/60 - 4s - loss: 0.7007 - val_loss: 0.0073\n",
      "Epoch 22/30\n",
      "60/60 - 4s - loss: 0.7006 - val_loss: 0.0069\n",
      "Epoch 23/30\n",
      "60/60 - 4s - loss: 0.7001 - val_loss: 0.0082\n",
      "Epoch 24/30\n",
      "60/60 - 5s - loss: 0.7018 - val_loss: 0.0081\n",
      "Epoch 25/30\n",
      "60/60 - 4s - loss: 0.7012 - val_loss: 0.0080\n",
      "Epoch 26/30\n",
      "60/60 - 4s - loss: 0.7021 - val_loss: 0.0077\n",
      "Epoch 27/30\n",
      "60/60 - 4s - loss: 0.7011 - val_loss: 0.0075\n",
      "Epoch 28/30\n",
      "60/60 - 4s - loss: 0.7002 - val_loss: 0.0071\n",
      "Epoch 29/30\n",
      "60/60 - 4s - loss: 0.7015 - val_loss: 0.0084\n",
      "Epoch 30/30\n",
      "60/60 - 4s - loss: 0.7015 - val_loss: 0.0076\n"
     ]
    }
   ],
   "source": [
    "history = model.fit(x_train_n , y_train , epochs = 30 , batch_size = 32 , validation_data = [ x_test_n , y_test] , verbose = 2)"
   ]
  },
  {
   "cell_type": "code",
   "execution_count": 18,
   "metadata": {},
   "outputs": [],
   "source": [
    "import matplotlib.pyplot as plt"
   ]
  },
  {
   "cell_type": "code",
   "execution_count": 19,
   "metadata": {},
   "outputs": [
    {
     "data": {
      "text/plain": [
       "[<matplotlib.lines.Line2D at 0x28c95a382c8>]"
      ]
     },
     "execution_count": 19,
     "metadata": {},
     "output_type": "execute_result"
    },
    {
     "data": {
      "image/png": "[encoded data removed]",
      "text/plain": [
       "<Figure size 720x288 with 1 Axes>"
      ]
     },
     "metadata": {
      "needs_background": "light"
     },
     "output_type": "display_data"
    }
   ],
   "source": [
    "plt.figure(figsize = (10,4))\n",
    "plt.plot(history.history['loss'])\n",
    "plt.plot(history.history['val_loss'])"
   ]
  },
  {
   "cell_type": "code",
   "execution_count": 20,
   "metadata": {},
   "outputs": [],
   "source": [
    "test_predictions = model.predict(x_test_n)"
   ]
  },
  {
   "cell_type": "code",
   "execution_count": 21,
   "metadata": {},
   "outputs": [],
   "source": [
    "pred = []\n",
    "for i in test_predictions:\n",
    "    if i <= 0.5:\n",
    "        pred.append(0)\n",
    "    else:\n",
    "        pred.append(1)\n",
    "acc = 0\n",
    "for i in range(0,len(pred)):\n",
    "    if pred[i] == y_test[i]:\n",
    "        acc += 1\n",
    "    else:\n",
    "        pass"
   ]
  },
  {
   "cell_type": "code",
   "execution_count": 22,
   "metadata": {},
   "outputs": [],
   "source": [
    "from sklearn.metrics import accuracy_score"
   ]
  },
  {
   "cell_type": "code",
   "execution_count": 24,
   "metadata": {},
   "outputs": [],
   "source": [
    "acc = accuracy_score(np.rint(test_predictions) , y_test)"
   ]
  },
  {
   "cell_type": "code",
   "execution_count": 26,
   "metadata": {},
   "outputs": [
    {
     "data": {
      "text/plain": [
       "52.20994475138122"
      ]
     },
     "execution_count": 26,
     "metadata": {},
     "output_type": "execute_result"
    }
   ],
   "source": [
    "acc*100"
   ]
  },
  {
   "cell_type": "markdown",
   "metadata": {},
   "source": [
    "### This task enticed me alot, in future I wish to fill in the gaps and aim to make a better model "
   ]
  },
  {
   "cell_type": "code",
   "execution_count": null,
   "metadata": {},
   "outputs": [],
   "source": []
  }
 ],
 "metadata": {
  "kernelspec": {
   "display_name": "Python 3",
   "language": "python",
   "name": "python3"
  },
  "language_info": {
   "codemirror_mode": {
    "name": "ipython",
    "version": 3
   },
   "file_extension": ".py",
   "mimetype": "text/x-python",
   "name": "python",
   "nbconvert_exporter": "python",
   "pygments_lexer": "ipython3",
   "version": "3.7.7"
  }
 },
 "nbformat": 4,
 "nbformat_minor": 4
}
